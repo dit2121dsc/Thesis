{
  "nbformat": 4,
  "nbformat_minor": 0,
  "metadata": {
    "colab": {
      "provenance": [],
      "authorship_tag": "ABX9TyNDxdl3gp9i6xfj21/3nvFa",
      "include_colab_link": true
    },
    "kernelspec": {
      "name": "python3",
      "display_name": "Python 3"
    },
    "language_info": {
      "name": "python"
    }
  },
  "cells": [
    {
      "cell_type": "markdown",
      "metadata": {
        "id": "view-in-github",
        "colab_type": "text"
      },
      "source": [
        "<a href=\"https://colab.research.google.com/github/dit2121dsc/Thesis/blob/main/Thesis.ipynb\" target=\"_parent\"><img src=\"https://colab.research.google.com/assets/colab-badge.svg\" alt=\"Open In Colab\"/></a>"
      ]
    },
    {
      "cell_type": "code",
      "execution_count": null,
      "metadata": {
        "colab": {
          "base_uri": "https://localhost:8080/"
        },
        "id": "jkc9NHW1HEsm",
        "outputId": "403d9ca3-1850-420e-e0fe-eda2b6645951"
      },
      "outputs": [
        {
          "output_type": "stream",
          "name": "stdout",
          "text": [
            "Mounted at /content/drive\n"
          ]
        }
      ],
      "source": [
        "from google.colab import drive\n",
        "drive.mount('/content/drive')"
      ]
    },
    {
      "cell_type": "code",
      "source": [
        "import pandas as pd"
      ],
      "metadata": {
        "id": "9LJ3kwofHMnQ"
      },
      "execution_count": null,
      "outputs": []
    },
    {
      "cell_type": "code",
      "source": [
        "fd= pd.read_csv (\"/content/drive/MyDrive/usa_00001.dat\")"
      ],
      "metadata": {
        "id": "pJ0p2F1KHQw1"
      },
      "execution_count": null,
      "outputs": []
    },
    {
      "cell_type": "code",
      "source": [
        "fd.describe"
      ],
      "metadata": {
        "colab": {
          "base_uri": "https://localhost:8080/"
        },
        "id": "K5R3VTPYTwwT",
        "outputId": "ac0a6d9d-a013-45d8-869e-bb511bc8a714"
      },
      "execution_count": null,
      "outputs": [
        {
          "output_type": "execute_result",
          "data": {
            "text/plain": [
              "<bound method NDFrame.describe of          197019700300000001             000001000019700000000132300000000000630000       00010000010000031023023000909001420001250\n",
              "0         197019700300000003             000001000019700...                                                                       \n",
              "1         197019700300000004             000001000019700...                                                                       \n",
              "2         197019700300000004             000001000019700...                                                                       \n",
              "3         197019700300000005             000001000019700...                                                                       \n",
              "4         197019700300000005             000001000019700...                                                                       \n",
              "...                                                     ...                                                                       \n",
              "49039373  2021202101014408642021001412571000000490020210...                                                                       \n",
              "49039374  2021202101014408642021001412571000000490020210...                                                                       \n",
              "49039375  2021202101014408642021001412571000000490020210...                                                                       \n",
              "49039376  2021202101014408652021001413341000000880020210...                                                                       \n",
              "49039377  2021202101014408652021001413341000000880020210...                                                                       \n",
              "\n",
              "[49039378 rows x 1 columns]>"
            ]
          },
          "metadata": {},
          "execution_count": 8
        }
      ]
    }
  ]
}